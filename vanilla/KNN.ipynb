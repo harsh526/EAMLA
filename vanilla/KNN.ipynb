{
 "cells": [
  {
   "cell_type": "code",
   "execution_count": 8,
   "metadata": {},
   "outputs": [],
   "source": [
    "# KNN. "
   ]
  },
  {
   "cell_type": "code",
   "execution_count": 15,
   "metadata": {},
   "outputs": [],
   "source": [
    "from __future__ import division\n",
    "from mnist import MNIST\n",
    "from sklearn import tree\n",
    "import numpy as np\n",
    "from sklearn.metrics import classification_report,log_loss,accuracy_score,roc_auc_score\n",
    "from sklearn.ensemble import RandomForestClassifier\n",
    "from time import time\n",
    "import pandas as pd\n",
    "from datetime import datetime\n",
    "from openpyxl import load_workbook\n",
    "import re\n",
    "from sklearn.model_selection import GridSearchCV\n",
    "from sklearn.preprocessing import label_binarize\n"
   ]
  },
  {
   "cell_type": "code",
   "execution_count": 16,
   "metadata": {},
   "outputs": [],
   "source": [
    "# Loading the data\n",
    "mndata = MNIST('./')\n",
    "images_train, labels_train = mndata.load_training()\n",
    "images_test, labels_test = mndata.load_testing()\n",
    "labels_test = np.array(labels_test)\n",
    "\n",
    "images_train = np.array(images_train)\n",
    "labels_train = np.array(labels_train)\n"
   ]
  },
  {
   "cell_type": "code",
   "execution_count": 17,
   "metadata": {},
   "outputs": [],
   "source": [
    "from sklearn.neighbors import KNeighborsClassifier"
   ]
  },
  {
   "cell_type": "code",
   "execution_count": 18,
   "metadata": {},
   "outputs": [],
   "source": [
    "excel_file_name = 'KNN' + str(datetime.now().strftime('%Y%m%d%H%M%S')) + '.xlsx'\n"
   ]
  },
  {
   "cell_type": "code",
   "execution_count": 19,
   "metadata": {},
   "outputs": [],
   "source": [
    "def classifaction_report_to_dataframe(report):\n",
    "    report_data = []\n",
    "    lines = report.split('\\n')\n",
    "    for line in lines[2:-5]:\n",
    "        row = {}\n",
    "        row_data = line.split('      ')\n",
    "        if len(row_data)>4:\n",
    "            row['class'] = row_data[1]\n",
    "            row['precision'] = float(row_data[2])\n",
    "            row['recall'] = float(row_data[3])\n",
    "            row['f1_score'] = float(row_data[4])\n",
    "            row['support'] = float(row_data[5])\n",
    "            report_data.append(row)\n",
    "    for line in lines[-4:-1]:\n",
    "        row = {}\n",
    "        p = re.compile(\"[a-z]+ [a-z]+\")\n",
    "        m = p.search(line)  \n",
    "        row['class'] = m.group(0)\n",
    "        p = re.compile(\"\\d+.?\\d+\")\n",
    "        row_data = p.findall(line)\n",
    "        row['precision'] = float(row_data[0])\n",
    "        row['recall'] = float(row_data[1])\n",
    "        row['f1_score'] = float(row_data[2])\n",
    "        row['support'] = float(row_data[3])\n",
    "        report_data.append(row)\n",
    "        \n",
    "        \n",
    "    dataframe = pd.DataFrame.from_dict(report_data)\n",
    "    return dataframe\n"
   ]
  },
  {
   "cell_type": "code",
   "execution_count": 20,
   "metadata": {},
   "outputs": [
    {
     "name": "stdout",
     "output_type": "stream",
     "text": [
      "0.9828333333333334 0.9826795366238563\n",
      "0.9813888888888889 0.9812449298787067\n",
      "0.9791666666666666 0.9790375266390281\n",
      "0.9782777777777778 0.9781429743546859\n",
      "0.9775555555555555 0.9774060582754938\n",
      "0.9741111111111111 0.973923495391958\n",
      "0.9688888888888888 0.9686384811224171\n",
      "0.9605 0.9601203713817806\n",
      "0.9543888888888888 0.9539039965122003\n",
      "0.9466111111111112 0.9460124943114664\n"
     ]
    }
   ],
   "source": [
    "neighbours = [1,10,20,25,30,50,100,200,300,500]\n",
    "df = pd.DataFrame(columns=['Number of neighbours', 'Accuracy','Normalized Accuracy', \n",
    "                 'Time_taken_train','Time_taken_test',\n",
    "                 'Negative Log loss','Macro_auc','Micro_auc'])\n",
    "for n in neighbours:\n",
    "    neigh = KNeighborsClassifier(n_neighbors=n)\n",
    "    \n",
    "    start = time()\n",
    "    neigh.fit(images_train, labels_train) \n",
    "    train_time = time() - start\n",
    "    \n",
    "    start = time()\n",
    "    predictions = neigh.predict(images_test)\n",
    "    test_time = time() - start\n",
    "   \n",
    "    accuracy = accuracy_score(predictions,labels_test,normalize=False)\n",
    "    normalized_accuracy = accuracy_score(predictions,labels_test,normalize=True)\n",
    "    log_loss_prediction = neigh.predict_proba(images_test)\n",
    "    log_loss_val = log_loss(labels_test,log_loss_prediction) \n",
    "    classfication_repo = classification_report(labels_test, predictions)\n",
    "    \n",
    "    \n",
    "    \n",
    "    labels_train_one_hot=label_binarize(labels_test,classes=[0,1,2,3,4,5,6,7,8,9])\n",
    "    predictions_one_hot=label_binarize(predictions,classes=[0,1,2,3,4,5,6,7,8,9])\n",
    "    micro_auc=roc_auc_score(labels_train_one_hot,predictions_one_hot,average=\"micro\")\n",
    "    macro_auc=roc_auc_score(labels_train_one_hot,predictions_one_hot,average=\"macro\")\n",
    "\n",
    "    print(micro_auc, macro_auc)\n",
    "\n",
    "    \n",
    "    \n",
    "    \n",
    "    df_data = [n,accuracy,normalized_accuracy,train_time,test_time,log_loss_val,macro_auc,micro_auc]\n",
    "    df.loc[len(df)] = df_data\n",
    "    \n",
    "    \n",
    "\n",
    "excel_writer = pd.ExcelWriter(excel_file_name,engine='xlsxwriter')\n",
    "df.to_excel(excel_writer, sheet_name='knn')\n",
    "df_classification_report = classifaction_report_to_dataframe(classfication_repo)\n",
    "df_classification_report.to_excel(excel_writer, sheet_name='knn_cr')\n",
    "excel_writer.save()    "
   ]
  }
 ],
 "metadata": {
  "kernelspec": {
   "display_name": "Python 2",
   "language": "python",
   "name": "python2"
  },
  "language_info": {
   "codemirror_mode": {
    "name": "ipython",
    "version": 3
   },
   "file_extension": ".py",
   "mimetype": "text/x-python",
   "name": "python",
   "nbconvert_exporter": "python",
   "pygments_lexer": "ipython3",
   "version": "3.5.2"
  }
 },
 "nbformat": 4,
 "nbformat_minor": 2
}
